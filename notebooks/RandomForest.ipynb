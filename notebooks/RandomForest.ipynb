{
 "cells": [
  {
   "cell_type": "code",
   "execution_count": 1,
   "metadata": {},
   "outputs": [],
   "source": [
    "import pandas as pd\n",
    "import numpy as np\n",
    "import matplotlib as mpl\n",
    "\n",
    "%matplotlib inline"
   ]
  },
  {
   "cell_type": "code",
   "execution_count": 2,
   "metadata": {
    "scrolled": true
   },
   "outputs": [
    {
     "name": "stderr",
     "output_type": "stream",
     "text": [
      "[03:32:07.231 WARNING] /nas/local/simscripts/aklein/envs/cs221/lib/python3.6/site-packages/pyarrow/pandas_compat.py:708: FutureWarning: .labels was deprecated in version 0.24.0. Use .codes instead.\n",
      "  labels = getattr(columns, 'labels', None) or [\n",
      "\n",
      "[03:32:07.232 WARNING] /nas/local/simscripts/aklein/envs/cs221/lib/python3.6/site-packages/pyarrow/pandas_compat.py:735: FutureWarning: the 'labels' keyword is deprecated, use 'codes' instead\n",
      "  return pd.MultiIndex(levels=new_levels, labels=labels, names=columns.names)\n",
      "\n",
      "[03:32:07.233 WARNING] /nas/local/simscripts/aklein/envs/cs221/lib/python3.6/site-packages/pyarrow/pandas_compat.py:752: FutureWarning: .labels was deprecated in version 0.24.0. Use .codes instead.\n",
      "  labels, = index.labels\n",
      "\n"
     ]
    }
   ],
   "source": [
    "train_df = pd.read_parquet('../data/rf_features_train.parquet')"
   ]
  },
  {
   "cell_type": "code",
   "execution_count": 3,
   "metadata": {},
   "outputs": [],
   "source": [
    "test_df = pd.read_parquet('../data/rf_features_validate.parquet')"
   ]
  },
  {
   "cell_type": "code",
   "execution_count": 4,
   "metadata": {},
   "outputs": [],
   "source": [
    "# train full\n",
    "X = train_df.loc[:, train_df.columns != 'score']\n",
    "y = train_df.score\n",
    "\n",
    "# test full\n",
    "Xtst = test_df.loc[:, test_df.columns != 'score']\n",
    "ytst = test_df.score"
   ]
  },
  {
   "cell_type": "code",
   "execution_count": 75,
   "metadata": {},
   "outputs": [],
   "source": [
    "# final fit estimator\n",
    "rf = RandomForestRegressor(n_estimators=25, max_features=225, max_depth=60, n_jobs=-1)"
   ]
  },
  {
   "cell_type": "code",
   "execution_count": 73,
   "metadata": {},
   "outputs": [],
   "source": [
    "Xfinal = pd.concat([X, Xtst], axis=0)\n",
    "yfinal = pd.concat([y, ytst], axis=0)"
   ]
  },
  {
   "cell_type": "code",
   "execution_count": 76,
   "metadata": {},
   "outputs": [
    {
     "data": {
      "text/plain": [
       "RandomForestRegressor(bootstrap=True, criterion='mse', max_depth=60,\n",
       "                      max_features=225, max_leaf_nodes=None,\n",
       "                      min_impurity_decrease=0.0, min_impurity_split=None,\n",
       "                      min_samples_leaf=1, min_samples_split=2,\n",
       "                      min_weight_fraction_leaf=0.0, n_estimators=25, n_jobs=-1,\n",
       "                      oob_score=False, random_state=None, verbose=0,\n",
       "                      warm_start=False)"
      ]
     },
     "execution_count": 76,
     "metadata": {},
     "output_type": "execute_result"
    }
   ],
   "source": [
    "rf.fit(Xfinal, yfinal)"
   ]
  },
  {
   "cell_type": "code",
   "execution_count": 77,
   "metadata": {},
   "outputs": [],
   "source": [
    "import pickle\n",
    "with open('estimator.pkl', 'wb') as f:\n",
    "    pickle.dump(rf, f, protocol=pickle.HIGHEST_PROTOCOL)"
   ]
  },
  {
   "cell_type": "code",
   "execution_count": 81,
   "metadata": {},
   "outputs": [
    {
     "data": {
      "text/plain": [
       "0.9786080598860698"
      ]
     },
     "execution_count": 81,
     "metadata": {},
     "output_type": "execute_result"
    }
   ],
   "source": [
    "r2_score(rf.predict(Xfinal), yfinal)"
   ]
  },
  {
   "cell_type": "code",
   "execution_count": 5,
   "metadata": {},
   "outputs": [],
   "source": [
    "from sklearn.ensemble import RandomForestRegressor\n",
    "from sklearn.metrics import mean_squared_error, r2_score"
   ]
  },
  {
   "cell_type": "code",
   "execution_count": 6,
   "metadata": {},
   "outputs": [],
   "source": [
    "n_estimators = [1, 2, 4, 8, 16, 32, 64, 100]\n",
    "max_depths = np.linspace(1, 32, 32, endpoint=True)"
   ]
  },
  {
   "cell_type": "code",
   "execution_count": 7,
   "metadata": {},
   "outputs": [
    {
     "name": "stdout",
     "output_type": "stream",
     "text": [
      "Training 1\n",
      "Training 2\n",
      "Training 4\n",
      "Training 8\n",
      "Training 16\n",
      "Training 32\n",
      "Training 64\n",
      "Training 100\n"
     ]
    }
   ],
   "source": [
    "# estimator grid\n",
    "train_results = []\n",
    "test_results = []\n",
    "for n in n_estimators:\n",
    "    print(f\"Training {n}\")\n",
    "    rf = RandomForestRegressor(n_estimators=n, max_depth=15, n_jobs=-1)\n",
    "    rf.fit(X, y)\n",
    "    train_pred = rf.predict(X)\n",
    "    train_mse = mean_squared_error(train_pred, y)\n",
    "    train_results.append(train_mse)\n",
    "    test_pred = rf.predict(Xtst)\n",
    "    test_mse = mean_squared_error(test_pred, ytst)\n",
    "    test_results.append(test_mse)"
   ]
  },
  {
   "cell_type": "code",
   "execution_count": 8,
   "metadata": {},
   "outputs": [
    {
     "data": {
      "image/png": "[encoded data removed]",
      "text/plain": [
       "<Figure size 432x288 with 1 Axes>"
      ]
     },
     "metadata": {
      "needs_background": "light"
     },
     "output_type": "display_data"
    }
   ],
   "source": [
    "import matplotlib.pyplot as plt\n",
    "from matplotlib.legend_handler import HandlerLine2D\n",
    "\n",
    "%matplotlib inline \n",
    "\n",
    "line1, = plt.plot(n_estimators, train_results, 'b', label='Train MSE')\n",
    "line2, = plt.plot(n_estimators, test_results, 'r', label='Test MSE')\n",
    "plt.legend(handler_map={line1: HandlerLine2D(numpoints=2)})\n",
    "plt.ylabel('MSE score')\n",
    "plt.xlabel('n_estimators')\n",
    "plt.show()"
   ]
  },
  {
   "cell_type": "code",
   "execution_count": 9,
   "metadata": {},
   "outputs": [
    {
     "name": "stdout",
     "output_type": "stream",
     "text": [
      "Training 1.0\n",
      "Training 2.0\n",
      "Training 3.0\n",
      "Training 4.0\n",
      "Training 5.0\n",
      "Training 6.0\n",
      "Training 7.0\n",
      "Training 8.0\n",
      "Training 9.0\n",
      "Training 10.0\n",
      "Training 11.0\n",
      "Training 12.0\n",
      "Training 13.0\n",
      "Training 14.0\n",
      "Training 15.0\n",
      "Training 16.0\n",
      "Training 17.0\n",
      "Training 18.0\n",
      "Training 19.0\n",
      "Training 20.0\n",
      "Training 21.0\n",
      "Training 22.0\n",
      "Training 23.0\n",
      "Training 24.0\n",
      "Training 25.0\n",
      "Training 26.0\n",
      "Training 27.0\n",
      "Training 28.0\n",
      "Training 29.0\n",
      "Training 30.0\n",
      "Training 31.0\n",
      "Training 32.0\n"
     ]
    }
   ],
   "source": [
    "# depth grid\n",
    "train_results = []\n",
    "test_results = []\n",
    "for d in max_depths:\n",
    "    print(f\"Training {d}\")\n",
    "    rf = RandomForestRegressor(n_estimators=20, max_depth=d, n_jobs=-1)\n",
    "    rf.fit(X, y)\n",
    "    train_pred = rf.predict(X)\n",
    "    train_mse = mean_squared_error(train_pred, y)\n",
    "    train_results.append(train_mse)\n",
    "    test_pred = rf.predict(Xtst)\n",
    "    test_mse = mean_squared_error(test_pred, ytst)\n",
    "    test_results.append(test_mse)"
   ]
  },
  {
   "cell_type": "code",
   "execution_count": 10,
   "metadata": {},
   "outputs": [
    {
     "data": {
      "image/png": "[encoded data removed]",
      "text/plain": [
       "<Figure size 432x288 with 1 Axes>"
      ]
     },
     "metadata": {
      "needs_background": "light"
     },
     "output_type": "display_data"
    }
   ],
   "source": [
    "line1, = plt.plot(max_depths, train_results, 'b', label='Train MSE')\n",
    "line2, = plt.plot(max_depths, test_results, 'r', label='Test MSE')\n",
    "plt.legend(handler_map={line1: HandlerLine2D(numpoints=2)})\n",
    "plt.ylabel('MSE score')\n",
    "plt.xlabel('max_depth')\n",
    "plt.show()"
   ]
  },
  {
   "cell_type": "code",
   "execution_count": 65,
   "metadata": {},
   "outputs": [
    {
     "name": "stdout",
     "output_type": "stream",
     "text": [
      "Training 50000\n",
      "Training 100000\n",
      "Training 150000\n",
      "Training 200000\n",
      "Training 250000\n",
      "Training 300000\n",
      "Training 350000\n",
      "Training 400000\n",
      "Training 450000\n",
      "Training 500000\n",
      "Training 550000\n",
      "Training 600000\n",
      "Training 650000\n",
      "Training 700000\n",
      "Training 750000\n",
      "Training 800000\n",
      "Training 850000\n",
      "Training 900000\n",
      "Training 950000\n"
     ]
    }
   ],
   "source": [
    "# training size effect\n",
    "sizes = np.arange(1, 20) * 50000\n",
    "\n",
    "train_results = []\n",
    "test_results = []\n",
    "for i in sizes:\n",
    "    print(f\"Training {i}\")\n",
    "    rf = RandomForestRegressor(n_estimators=20, max_depth=30, max_features=175, n_jobs=-1)\n",
    "    rf.fit(X.loc[:i], y.loc[:i])\n",
    "    train_pred = rf.predict(X.loc[:i])\n",
    "    train_mse = mean_squared_error(train_pred, y.loc[:i])\n",
    "    train_results.append(train_mse)\n",
    "    test_pred = rf.predict(Xtst)\n",
    "    test_mse = mean_squared_error(test_pred, ytst)\n",
    "    test_results.append(test_mse)"
   ]
  },
  {
   "cell_type": "code",
   "execution_count": 66,
   "metadata": {},
   "outputs": [
    {
     "data": {
      "text/plain": [
       "0.7992520507813237"
      ]
     },
     "execution_count": 66,
     "metadata": {},
     "output_type": "execute_result"
    }
   ],
   "source": [
    "r2_score(test_pred, ytst)"
   ]
  },
  {
   "cell_type": "code",
   "execution_count": 67,
   "metadata": {},
   "outputs": [
    {
     "data": {
      "image/png": "[encoded data removed]",
      "text/plain": [
       "<Figure size 432x288 with 1 Axes>"
      ]
     },
     "metadata": {
      "needs_background": "light"
     },
     "output_type": "display_data"
    }
   ],
   "source": [
    "line1, = plt.plot(sizes, train_results, 'b', label='Train MSE')\n",
    "line2, = plt.plot(sizes, test_results, 'r', label='Test MSE')\n",
    "plt.legend(handler_map={line1: HandlerLine2D(numpoints=2)})\n",
    "plt.ylabel('MSE score')\n",
    "plt.xlabel('Train set size')\n",
    "plt.show()"
   ]
  },
  {
   "cell_type": "code",
   "execution_count": 38,
   "metadata": {},
   "outputs": [],
   "source": [
    "max_features = np.linspace(10, X.shape[1], 20, endpoint=True).astype(np.int64)"
   ]
  },
  {
   "cell_type": "code",
   "execution_count": 39,
   "metadata": {},
   "outputs": [
    {
     "data": {
      "text/plain": [
       "array([ 10,  43,  77, 110, 144, 178, 211, 245, 279, 312, 346, 379, 413,\n",
       "       447, 480, 514, 548, 581, 615, 649])"
      ]
     },
     "execution_count": 39,
     "metadata": {},
     "output_type": "execute_result"
    }
   ],
   "source": [
    "max_features"
   ]
  },
  {
   "cell_type": "code",
   "execution_count": 40,
   "metadata": {},
   "outputs": [
    {
     "name": "stdout",
     "output_type": "stream",
     "text": [
      "Training 10\n",
      "Training 43\n",
      "Training 77\n",
      "Training 110\n",
      "Training 144\n",
      "Training 178\n",
      "Training 211\n",
      "Training 245\n",
      "Training 279\n",
      "Training 312\n",
      "Training 346\n",
      "Training 379\n",
      "Training 413\n",
      "Training 447\n",
      "Training 480\n",
      "Training 514\n",
      "Training 548\n",
      "Training 581\n",
      "Training 615\n",
      "Training 649\n"
     ]
    }
   ],
   "source": [
    "# depth grid\n",
    "train_results = []\n",
    "test_results = []\n",
    "for f in max_features:\n",
    "    print(f\"Training {f}\")\n",
    "    rf = RandomForestRegressor(n_estimators=20, max_depth=30, max_features=f, n_jobs=-1)\n",
    "    rf.fit(X, y)\n",
    "    train_pred = rf.predict(X)\n",
    "    train_mse = mean_squared_error(train_pred, y)\n",
    "    train_results.append(train_mse)\n",
    "    test_pred = rf.predict(Xtst)\n",
    "    test_mse = mean_squared_error(test_pred, ytst)\n",
    "    test_results.append(test_mse)"
   ]
  },
  {
   "cell_type": "code",
   "execution_count": 45,
   "metadata": {},
   "outputs": [
    {
     "data": {
      "image/png": "[encoded data removed]",
      "text/plain": [
       "<Figure size 432x288 with 1 Axes>"
      ]
     },
     "metadata": {
      "needs_background": "light"
     },
     "output_type": "display_data"
    }
   ],
   "source": [
    "line1, = plt.plot(max_features, train_results, 'b', label='Train MSE')\n",
    "line2, = plt.plot(max_features, test_results, 'r', label='Test MSE')\n",
    "plt.legend(handler_map={line1: HandlerLine2D(numpoints=2)})\n",
    "plt.ylabel('MSE score')\n",
    "plt.xlabel('Max features')\n",
    "plt.show()"
   ]
  },
  {
   "cell_type": "code",
   "execution_count": 55,
   "metadata": {},
   "outputs": [
    {
     "name": "stdout",
     "output_type": "stream",
     "text": [
      "Training 2.0\n",
      "Training 3.0\n",
      "Training 4.0\n",
      "Training 5.0\n",
      "Training 6.0\n",
      "Training 7.0\n",
      "Training 8.0\n",
      "Training 9.0\n",
      "Training 10.0\n"
     ]
    }
   ],
   "source": [
    "min_samples_splits = np.linspace(2, 10, 9, endpoint=True)\n",
    "train_results = []\n",
    "test_results = []\n",
    "for m in min_samples_splits:\n",
    "    print(f\"Training {m}\")\n",
    "    rf = RandomForestRegressor(n_estimators=20, max_depth=30, min_samples_split=int(m), n_jobs=-1)\n",
    "    rf.fit(X, y)\n",
    "    train_pred = rf.predict(X)\n",
    "    train_mse = mean_squared_error(train_pred, y)\n",
    "    train_results.append(train_mse)\n",
    "    test_pred = rf.predict(Xtst)\n",
    "    test_mse = mean_squared_error(test_pred, ytst)\n",
    "    test_results.append(test_mse)"
   ]
  },
  {
   "cell_type": "code",
   "execution_count": 56,
   "metadata": {},
   "outputs": [
    {
     "data": {
      "image/png": "[encoded data removed]",
      "text/plain": [
       "<Figure size 432x288 with 1 Axes>"
      ]
     },
     "metadata": {
      "needs_background": "light"
     },
     "output_type": "display_data"
    }
   ],
   "source": [
    "line1, = plt.plot(min_samples_splits, train_results, 'b', label='Train MSE')\n",
    "line2, = plt.plot(min_samples_splits, test_results, 'r', label='Test MSE')\n",
    "plt.legend(handler_map={line1: HandlerLine2D(numpoints=2)})\n",
    "plt.ylabel('MSE score')\n",
    "plt.xlabel('Min samples split')\n",
    "plt.show()"
   ]
  },
  {
   "cell_type": "code",
   "execution_count": null,
   "metadata": {},
   "outputs": [],
   "source": []
  }
 ],
 "metadata": {
  "kernelspec": {
   "display_name": "Python 3",
   "language": "python",
   "name": "python3"
  },
  "language_info": {
   "codemirror_mode": {
    "name": "ipython",
    "version": 3
   },
   "file_extension": ".py",
   "mimetype": "text/x-python",
   "name": "python",
   "nbconvert_exporter": "python",
   "pygments_lexer": "ipython3",
   "version": "3.6.6"
  }
 },
 "nbformat": 4,
 "nbformat_minor": 2
}

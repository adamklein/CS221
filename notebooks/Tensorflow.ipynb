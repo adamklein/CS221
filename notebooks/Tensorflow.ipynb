{
 "cells": [
  {
   "cell_type": "code",
   "execution_count": 1,
   "metadata": {},
   "outputs": [],
   "source": [
    "import tensorflow as tf\n",
    "import pandas as pd\n",
    "import numpy as np\n",
    "import matplotlib as mpl\n",
    "from tensorflow import keras\n",
    "from tensorflow.keras import layers\n",
    "\n",
    "%matplotlib inline"
   ]
  },
  {
   "cell_type": "code",
   "execution_count": 2,
   "metadata": {},
   "outputs": [
    {
     "name": "stderr",
     "output_type": "stream",
     "text": [
      "[18:40:52.037 WARNING] /nas/local/simscripts/aklein/envs/cs221/lib/python3.6/site-packages/pyarrow/pandas_compat.py:708: FutureWarning: .labels was deprecated in version 0.24.0. Use .codes instead.\n",
      "  labels = getattr(columns, 'labels', None) or [\n",
      "\n",
      "[18:40:52.038 WARNING] /nas/local/simscripts/aklein/envs/cs221/lib/python3.6/site-packages/pyarrow/pandas_compat.py:735: FutureWarning: the 'labels' keyword is deprecated, use 'codes' instead\n",
      "  return pd.MultiIndex(levels=new_levels, labels=labels, names=columns.names)\n",
      "\n",
      "[18:40:52.039 WARNING] /nas/local/simscripts/aklein/envs/cs221/lib/python3.6/site-packages/pyarrow/pandas_compat.py:752: FutureWarning: .labels was deprecated in version 0.24.0. Use .codes instead.\n",
      "  labels, = index.labels\n",
      "\n"
     ]
    }
   ],
   "source": [
    "X1 = pd.read_parquet('../data/nn_orig_features_train.parquet')\n",
    "X2 = pd.read_parquet('../data/nn_orig_features_valid.parquet')\n",
    "\n",
    "X = pd.concat([X1, X2])\n",
    "y = X.pop('score')"
   ]
  },
  {
   "cell_type": "code",
   "execution_count": 3,
   "metadata": {},
   "outputs": [],
   "source": [
    "def r_squared(y_true, y_pred):\n",
    "    from keras import backend as K\n",
    "    SS_res = K.sum(K.square(y_true - y_pred)) \n",
    "    SS_tot = K.sum(K.square(y_true - K.mean(y_true))) \n",
    "    return ( 1 - SS_res/(SS_tot + K.epsilon()) )"
   ]
  },
  {
   "cell_type": "code",
   "execution_count": 4,
   "metadata": {},
   "outputs": [],
   "source": [
    "def build_model():\n",
    "    model = keras.Sequential([\n",
    "        layers.Dense(600, activation=tf.nn.relu, input_shape=[len(X.keys())]),\n",
    "        layers.Dense(400, activation=tf.nn.relu),\n",
    "        layers.Dense(200, activation=tf.nn.relu),        \n",
    "        layers.Dense(128, activation=tf.nn.relu),\n",
    "        layers.Dense(64,  activation=tf.nn.relu),\n",
    "        layers.Dense(32, activation=tf.nn.relu),\n",
    "        layers.Dense(16, activation=tf.nn.relu),\n",
    "        layers.Dense(1, activation=tf.nn.tanh)\n",
    "      ])\n",
    "\n",
    "    optimizer = tf.keras.optimizers.RMSprop()\n",
    "\n",
    "    model.compile(\n",
    "        loss='mean_squared_error',\n",
    "        optimizer=optimizer,\n",
    "        metrics=['mean_squared_error', r_squared]\n",
    "    )\n",
    "    \n",
    "    return model"
   ]
  },
  {
   "cell_type": "code",
   "execution_count": 5,
   "metadata": {},
   "outputs": [
    {
     "name": "stderr",
     "output_type": "stream",
     "text": [
      "[18:41:01.569 WARNING] From /nas/local/simscripts/aklein/envs/cs221/lib/python3.6/site-packages/tensorflow/python/ops/resource_variable_ops.py:435: colocate_with (from tensorflow.python.framework.ops) is deprecated and will be removed in a future version.\n",
      "Instructions for updating:\n",
      "Colocations handled automatically by placer.\n",
      "[18:41:01.682 WARNING] From /nas/local/simscripts/aklein/envs/cs221/lib/python3.6/site-packages/tensorflow/python/keras/utils/losses_utils.py:170: to_float (from tensorflow.python.ops.math_ops) is deprecated and will be removed in a future version.\n",
      "Instructions for updating:\n",
      "Use tf.cast instead.\n",
      "Using TensorFlow backend.\n"
     ]
    }
   ],
   "source": [
    "model = build_model()"
   ]
  },
  {
   "cell_type": "code",
   "execution_count": 6,
   "metadata": {},
   "outputs": [
    {
     "name": "stdout",
     "output_type": "stream",
     "text": [
      "_________________________________________________________________\n",
      "Layer (type)                 Output Shape              Param #   \n",
      "=================================================================\n",
      "dense (Dense)                (None, 600)               390000    \n",
      "_________________________________________________________________\n",
      "dense_1 (Dense)              (None, 400)               240400    \n",
      "_________________________________________________________________\n",
      "dense_2 (Dense)              (None, 200)               80200     \n",
      "_________________________________________________________________\n",
      "dense_3 (Dense)              (None, 128)               25728     \n",
      "_________________________________________________________________\n",
      "dense_4 (Dense)              (None, 64)                8256      \n",
      "_________________________________________________________________\n",
      "dense_5 (Dense)              (None, 32)                2080      \n",
      "_________________________________________________________________\n",
      "dense_6 (Dense)              (None, 16)                528       \n",
      "_________________________________________________________________\n",
      "dense_7 (Dense)              (None, 1)                 17        \n",
      "=================================================================\n",
      "Total params: 747,209\n",
      "Trainable params: 747,209\n",
      "Non-trainable params: 0\n",
      "_________________________________________________________________\n"
     ]
    }
   ],
   "source": [
    "model.summary()"
   ]
  },
  {
   "cell_type": "code",
   "execution_count": 7,
   "metadata": {},
   "outputs": [
    {
     "name": "stderr",
     "output_type": "stream",
     "text": [
      "[18:41:41.690 WARNING] From /nas/local/simscripts/aklein/envs/cs221/lib/python3.6/site-packages/tensorflow/python/ops/math_ops.py:3066: to_int32 (from tensorflow.python.ops.math_ops) is deprecated and will be removed in a future version.\n",
      "Instructions for updating:\n",
      "Use tf.cast instead.\n"
     ]
    },
    {
     "name": "stdout",
     "output_type": "stream",
     "text": [
      "Train on 1834508 samples, validate on 18531 samples\n",
      "Epoch 1/100\n",
      "1834508/1834508 [==============================] - 409s 223us/sample - loss: 0.0781 - mean_squared_error: 0.0781 - r_squared: 0.8726 - val_loss: 0.0802 - val_mean_squared_error: 0.0802 - val_r_squared: 0.8700\n",
      "Epoch 2/100\n",
      "1834508/1834508 [==============================] - 407s 222us/sample - loss: 0.0635 - mean_squared_error: 0.0635 - r_squared: 0.8965 - val_loss: 0.0657 - val_mean_squared_error: 0.0657 - val_r_squared: 0.8927\n",
      "Epoch 3/100\n",
      "1834508/1834508 [==============================] - 407s 222us/sample - loss: 0.0603 - mean_squared_error: 0.0603 - r_squared: 0.9015 - val_loss: 0.0661 - val_mean_squared_error: 0.0661 - val_r_squared: 0.8921\n",
      "Epoch 4/100\n",
      "1834508/1834508 [==============================] - 409s 223us/sample - loss: 0.0587 - mean_squared_error: 0.0587 - r_squared: 0.9042 - val_loss: 0.0623 - val_mean_squared_error: 0.0623 - val_r_squared: 0.8982\n",
      "Epoch 5/100\n",
      "1834508/1834508 [==============================] - 410s 223us/sample - loss: 0.0573 - mean_squared_error: 0.0573 - r_squared: 0.9064 - val_loss: 0.0727 - val_mean_squared_error: 0.0727 - val_r_squared: 0.8812\n",
      "Epoch 6/100\n",
      "1834508/1834508 [==============================] - 410s 223us/sample - loss: 0.0571 - mean_squared_error: 0.0571 - r_squared: 0.9068 - val_loss: 0.0634 - val_mean_squared_error: 0.0634 - val_r_squared: 0.8969\n"
     ]
    }
   ],
   "source": [
    "EPOCHS = 100\n",
    "\n",
    "early_stop = keras.callbacks.EarlyStopping(monitor='val_loss', mode='min', patience=2)\n",
    "\n",
    "history = model.fit(\n",
    "    X, y,\n",
    "    batch_size=64,\n",
    "    epochs=EPOCHS, \n",
    "    validation_split=0.01,\n",
    "    # validation_data=(test_df[:50000], test_y[:50000]), \n",
    "    callbacks=[early_stop],\n",
    "    verbose=1)"
   ]
  },
  {
   "cell_type": "code",
   "execution_count": 12,
   "metadata": {},
   "outputs": [
    {
     "data": {
      "image/png": "[encoded data removed]",
      "text/plain": [
       "<Figure size 432x288 with 1 Axes>"
      ]
     },
     "metadata": {
      "needs_background": "light"
     },
     "output_type": "display_data"
    },
    {
     "data": {
      "image/png": "[encoded data removed]",
      "text/plain": [
       "<Figure size 432x288 with 1 Axes>"
      ]
     },
     "metadata": {
      "needs_background": "light"
     },
     "output_type": "display_data"
    }
   ],
   "source": [
    "import matplotlib.pyplot as plt\n",
    "\n",
    "def plot_history(history):\n",
    "  hist = pd.DataFrame(history.history)\n",
    "  hist['epoch'] = history.epoch\n",
    "  \n",
    "  plt.figure()\n",
    "  plt.xlabel('Epoch')\n",
    "  plt.ylabel('R^2')\n",
    "  plt.plot(hist['epoch'], hist['r_squared'],\n",
    "           label='Train Error')\n",
    "  plt.plot(hist['epoch'], hist['val_r_squared'],\n",
    "           label = 'Val Error')\n",
    "  plt.ylim([0,1])\n",
    "  plt.legend()\n",
    "  \n",
    "  plt.figure()\n",
    "  plt.xlabel('Epoch')\n",
    "  plt.ylabel('Mean Square Error')\n",
    "  plt.plot(hist['epoch'], hist['mean_squared_error'],\n",
    "           label='Train Error')\n",
    "  plt.plot(hist['epoch'], hist['val_mean_squared_error'],\n",
    "           label = 'Val Error')\n",
    "  plt.ylim([0,0.3])\n",
    "  plt.legend()\n",
    "  plt.show()\n",
    "\n",
    "\n",
    "plot_history(history)"
   ]
  },
  {
   "cell_type": "code",
   "execution_count": 11,
   "metadata": {},
   "outputs": [],
   "source": [
    "model.save('tf_model3.ckpt')"
   ]
  },
  {
   "cell_type": "code",
   "execution_count": null,
   "metadata": {},
   "outputs": [],
   "source": []
  }
 ],
 "metadata": {
  "kernelspec": {
   "display_name": "Python 3",
   "language": "python",
   "name": "python3"
  },
  "language_info": {
   "codemirror_mode": {
    "name": "ipython",
    "version": 3
   },
   "file_extension": ".py",
   "mimetype": "text/x-python",
   "name": "python",
   "nbconvert_exporter": "python",
   "pygments_lexer": "ipython3",
   "version": "3.6.6"
  }
 },
 "nbformat": 4,
 "nbformat_minor": 2
}
